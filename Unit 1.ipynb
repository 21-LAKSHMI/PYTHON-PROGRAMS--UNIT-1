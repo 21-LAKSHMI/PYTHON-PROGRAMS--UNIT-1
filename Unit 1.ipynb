{
  "metadata": {
    "language_info": {
      "codemirror_mode": {
        "name": "python",
        "version": 3
      },
      "file_extension": ".py",
      "mimetype": "text/x-python",
      "name": "python",
      "nbconvert_exporter": "python",
      "pygments_lexer": "ipython3",
      "version": "3.8"
    },
    "kernelspec": {
      "name": "python",
      "display_name": "Python (Pyodide)",
      "language": "python"
    }
  },
  "nbformat_minor": 4,
  "nbformat": 4,
  "cells": [
    {
      "cell_type": "code",
      "source": "teststr=\"Lakshmi\"\nnew_str = \"\"\nfor i in range(len(teststr)):\n    if i != 2:\n        new_str = new_str + teststr[i]\n    print (\"The string after removal of i'th character : \" + new_str)\n",
      "metadata": {
        "trusted": true
      },
      "execution_count": null,
      "outputs": []
    },
    {
      "cell_type": "code",
      "source": "def multiplication_or_sum(num1, num2):\n    product = num1 * num2\n    if product <=1000:\n        return product\n    else:\n        return num1 + num2\n\nresult = multiplication_or_sum(20,30)\nprint(\"The result is = \", result)\nresult = multiplication_or_sum(50,10)\nprint(\"The result is = \", result)\n",
      "metadata": {
        "trusted": true
      },
      "execution_count": null,
      "outputs": []
    },
    {
      "cell_type": "code",
      "source": "num = 0\nfor i in range(10):\n    sum = num + i\n    print(f'Current number {i} Previous Number {num} is {sum}')\n    num = i\n",
      "metadata": {
        "trusted": true
      },
      "execution_count": null,
      "outputs": []
    },
    {
      "cell_type": "code",
      "source": "print(\"Please enter text to print::\")\ninputchars = input()\nif inputchars:\n    string = \"\"\n     for i in inputchars:\n            if inputchars.index(i)%2 == 0:\n                 string += str(i)\n                     print(\"You Entered:\", inputchars)\n                    print(\"Result:\")\n                    print(string)\n",
      "metadata": {
        "trusted": true
      },
      "execution_count": null,
      "outputs": []
    },
    {
      "cell_type": "code",
      "source": "string=input('Enter a string:')\n    even=[]\n    odd=[]\n    for i in range(len(string)):\n        if i%2==0:\n             even.append(string[i])\n        else:\n             odd.append(string[i])\n    print('Even index number {}'.format(even))",
      "metadata": {
        "trusted": true
      },
      "execution_count": null,
      "outputs": []
    },
    {
      "cell_type": "code",
      "source": "nums = [] \nfor i in range(5): \n    num = int(input('Give me a number:')) \n    nums.append(num) \n \n for i in nums: \n    if i % 5 == 0: \n        print(i)\n",
      "metadata": {
        "trusted": true
      },
      "execution_count": null,
      "outputs": []
    },
    {
      "cell_type": "code",
      "source": "message = 'My name is Lakshmi'\nprint('Number of occurrence of is:', message.count('is'))\n",
      "metadata": {
        "trusted": true
      },
      "execution_count": null,
      "outputs": []
    },
    {
      "cell_type": "code",
      "source": "print('My', 'Name', 'Is', 'James', sep='**')\n",
      "metadata": {
        "trusted": true
      },
      "execution_count": null,
      "outputs": []
    },
    {
      "cell_type": "code",
      "source": "num = 8\nprint('%o' % num)\n",
      "metadata": {
        "trusted": true
      },
      "execution_count": null,
      "outputs": []
    },
    {
      "cell_type": "code",
      "source": "for income in [5000,10000,16777]:\n\n    if income <= 10_000:\n        tax = 0\n    elif income <= 20_000: \n        tax = (income - 10_000) * 0.1              \n    else:\n        tax = (income-20_000) * 0.2 +  10_000*0.1  \n\n    print(f\"For income {income}, You owe {tax} dollars in tax!\" )\n",
      "metadata": {
        "trusted": true
      },
      "execution_count": null,
      "outputs": []
    },
    {
      "cell_type": "code",
      "source": "username=input(\"Enter Your Name: \")\nif username=='Bond':\n     print(\"Welcome on board 007.\")\nelse:\n    print(\"Good morning\",username)\n",
      "metadata": {
        "trusted": true
      },
      "execution_count": null,
      "outputs": []
    },
    {
      "cell_type": "code",
      "source": "a = [1, 2, 3, 4, 5] \nfor x in range(len(a)): \n    print (a[x])\n",
      "metadata": {
        "trusted": true
      },
      "execution_count": null,
      "outputs": []
    },
    {
      "cell_type": "code",
      "source": "num = 75869\ncount = 0\nwhile num != 0:\n    num = num // 10\n    count = count + 1\nprint(\"Total digits are:\", count)\n",
      "metadata": {
        "trusted": true
      },
      "execution_count": null,
      "outputs": []
    },
    {
      "cell_type": "code",
      "source": "for num in range(-10, 0, 1):\n    print(num)\n",
      "metadata": {
        "trusted": true
      },
      "execution_count": null,
      "outputs": []
    },
    {
      "cell_type": "code",
      "source": "for i in range(5):\n    print(i)\nelse:\n    print(\"Done!\")\n",
      "metadata": {
        "trusted": true
      },
      "execution_count": null,
      "outputs": []
    },
    {
      "cell_type": "code",
      "source": "quantity = 3\ntotalMoney = 1000\nprice = 450\nstatement1 = \"I have {1} dollars so I can buy {0} football for {2:.2f} dollars.\"\nprint(statement1.format(quantity, totalMoney, price))\n",
      "metadata": {
        "trusted": true
      },
      "execution_count": null,
      "outputs": []
    },
    {
      "cell_type": "code",
      "source": "list = [31, 42, 13, 34, 85, 0, 99, 1, 3]\nprint(\"The list is :\")\nprint(list)\nprint(\"The elements in odd positions are : \")\nfor i in range(1, len(list), 2):\n   print(list[i])\n",
      "metadata": {
        "trusted": true
      },
      "execution_count": null,
      "outputs": []
    },
    {
      "cell_type": "code",
      "source": "test_str = 'helloworld'\n\nprint(\"The original string is : \" + str(test_str))\nmid_str = \"python\"\n\ntemp = test_str.split()\nmid_pos = len(temp) // 2\n\nres = temp[:mid_pos] + [mid_str] + temp[mid_pos:]\n\nres = ' '.join(res)\n \nprint(\"Formulated String : \" + str(res))\n",
      "metadata": {
        "trusted": true
      },
      "execution_count": null,
      "outputs": []
    },
    {
      "cell_type": "code",
      "source": "str1 = \"Lakshmi\"\nprint(\"The original string is : \" + str(str1))\nres = str1[0].lower() + str1[1:]\nprint(\"The string after lowercasing initial character : \" + str(res))\n",
      "metadata": {
        "trusted": true
      },
      "execution_count": null,
      "outputs": []
    },
    {
      "cell_type": "code",
      "source": "str1 = \"Welcome to INDIA. India awesome, isn't it?\"\nsub_string = \"INDIA\"\ntemp_str = str1.lower()\ncount = temp_str.count(sub_string.lower())\nprint(\"The INDIA count is:\", count)\n",
      "metadata": {
        "trusted": true
      },
      "execution_count": null,
      "outputs": []
    },
    {
      "cell_type": "code",
      "source": "str1 = \"Apple\"\nchar_dict = dict()\nfor char in str1:\n    count = str1.count(char)\n    char_dict[char] = count\nprint('Result:', char_dict)\n",
      "metadata": {
        "trusted": true
      },
      "execution_count": null,
      "outputs": []
    },
    {
      "cell_type": "code",
      "source": "list1 = [\"M\", \"na\", \"i\", \"Laks\"] \nlist2 = [\"y\", \"me\", \"s\", \"hmi\"]\nlist3 = [i + j for i, j in zip(list1, list2)]\nprint(list3)\n",
      "metadata": {
        "trusted": true
      },
      "execution_count": null,
      "outputs": []
    },
    {
      "cell_type": "code",
      "source": "numbers = [1, 2, 3, 4, 5, 6, 7]\nres = []\nfor i in numbers:\n    res.append(i * i)\nprint(res)\n",
      "metadata": {
        "trusted": true
      },
      "execution_count": null,
      "outputs": []
    },
    {
      "cell_type": "code",
      "source": "l1 = [10, 20, 30, 40]\nl2 = [100, 200, 300, 400]\n\nfor x, y in zip(l1, l2[::-1]):\n    print(x, y)\n",
      "metadata": {
        "trusted": true
      },
      "execution_count": null,
      "outputs": []
    },
    {
      "cell_type": "code",
      "source": "list1 = [\"Mike\", \"\", \"Emma\", \"Kelly\", \"\", \"Brad\"]\nres = list(filter(None, list1))\nprint(res)\n",
      "metadata": {
        "trusted": true
      },
      "execution_count": null,
      "outputs": []
    },
    {
      "cell_type": "code",
      "source": "l1 = [10, 20, [300, 400, [5000, 6000], 500], 30, 40]\nl1[2][2].append(7000)\nprint(l1)\n",
      "metadata": {
        "trusted": true
      },
      "execution_count": null,
      "outputs": []
    },
    {
      "cell_type": "code",
      "source": "num1= input(\"enter first number\")\nnum2=input(\"enter second number\")\nprint(num1,num2)\n",
      "metadata": {
        "trusted": true
      },
      "execution_count": null,
      "outputs": []
    },
    {
      "cell_type": "code",
      "source": "l1 = [\"a\", \"b\", [\"c\", [\"d\", \"e\", [\"f\", \"g\"], \"k\"], \"l\"], \"m\", \"n\"]\nsub_list = [\"h\", \"i\", \"j\"]\nl1[2][1][2].extend(sub_list)\nprint(l1)\n",
      "metadata": {
        "trusted": true
      },
      "execution_count": null,
      "outputs": []
    },
    {
      "cell_type": "code",
      "source": "l1 = [5, 10, 15, 200, 25, 30, 35]\nindex = l1.index(200)\nl1[index] = 20\nprint(l1)\n",
      "metadata": {
        "trusted": true
      },
      "execution_count": null,
      "outputs": []
    },
    {
      "cell_type": "code",
      "source": "l1 = [5, 20, 15, 20, 25, 50, 20]\ndef remove_value(list, val):\n    return [i for i in list if i != val]\nres = remove_value(l1, 20)\nprint(res)\n",
      "metadata": {
        "trusted": true
      },
      "execution_count": null,
      "outputs": []
    },
    {
      "cell_type": "code",
      "source": "keys = [\"Abi\", \"Aashish\", \"Varsha\"]\nvalues = [1, 3, 10]\nprint(\"Original key list is : \" + str(keys))\nprint(\"Original value list is : \" + str(values))\nres = {}\nfor key in keys:\n    for value in values:\n        res[key] = value\n        values.remove(value)\n        break\nprint(\"Resultant dictionary is : \" + str(res))\n",
      "metadata": {
        "trusted": true
      },
      "execution_count": null,
      "outputs": []
    },
    {
      "cell_type": "code",
      "source": "def Merge(dict1, dict2):\n    return(dict2.update(dict1))\ndict1 = {'c': 1, 'd': 3}\ndict2 = {'a': 6, 'b': 10}\nprint(Merge(dict1, dict2))\nprint(dict2)\n",
      "metadata": {
        "trusted": true
      },
      "execution_count": null,
      "outputs": []
    },
    {
      "cell_type": "code",
      "source": "Dict = {\n    \"class\": {\n        \"student\": {\n            \"name\": \"Mike\",\n            \"marks\": {\n                \"physics\": 100,\n                \"history\": 80\n            }\n        }\n    }\n}\nprint(Dict['class']['student']['marks']['physics'])\n",
      "metadata": {
        "trusted": true
      },
      "execution_count": null,
      "outputs": []
    },
    {
      "cell_type": "code",
      "source": "Dict = { \n  \"name\": \"Aakash\",\n  \"age\":25, \n  \"salary\": 20000, \n  \"city\": \"Chennai\" }\nkeys = [\"name\", \"salary\"]\nnewDict = {k: Dict[k] for k in keys}\nprint(newDict)\n",
      "metadata": {
        "trusted": true
      },
      "execution_count": null,
      "outputs": []
    },
    {
      "cell_type": "code",
      "source": "Dict = {\n    \"name\": \"Aakash\",\n    \"age\": 25,\n    \"salary\": 8000,\n    \"city\": \"Bangalore\"\n}\nkeys = [\"name\", \"salary\"]\nDict = {k: Dict[k] for k in Dict.keys() - keys}\nprint(Dict)\n",
      "metadata": {
        "trusted": true
      },
      "execution_count": null,
      "outputs": []
    },
    {
      "cell_type": "code",
      "source": "Dict = {'a': 100, 'b': 200, 'c': 300}\nif 100 in Dict.values():\n    print('200 present in the given dictionary')",
      "metadata": {
        "trusted": true
      },
      "execution_count": null,
      "outputs": []
    },
    {
      "cell_type": "code",
      "source": "Dict = {\n    \"name\": \"Akshaya\",\n    \"age\": 20,\n    \"salary\": 9000,\n    \"city\": \"Hyderabad\"\n}\nDict['location'] = Dict.pop('city')\nprint(Dict)\n",
      "metadata": {
        "trusted": true
      },
      "execution_count": null,
      "outputs": []
    },
    {
      "cell_type": "code",
      "source": "Dict = {\n    'Physics': 82,\n    'Maths': 65,\n    'history': 75\n}\nprint(min(Dict, key=Dict.get))\n",
      "metadata": {
        "trusted": true
      },
      "execution_count": null,
      "outputs": []
    },
    {
      "cell_type": "code",
      "source": "Dict = {\n    'emp1': {'name': 'Lakshmi', 'salary': 12000},\n    'emp2': {'name': 'Praga', 'salary': 14000},\n    'emp3': {'name': 'Shwetha', 'salary': 16000}\n}\nDict['emp2']['salary'] = 18000\nprint(Dict)\n",
      "metadata": {
        "trusted": true
      },
      "execution_count": null,
      "outputs": []
    },
    {
      "cell_type": "code",
      "source": "t1 = (10, 20, 30, 40, 50)\nt1 = t1[::-1]\nprint(t1)\n",
      "metadata": {
        "trusted": true
      },
      "execution_count": null,
      "outputs": []
    },
    {
      "cell_type": "code",
      "source": "t1 = (\"Black\", [10, 20, 30], (5, 15, 25))\nprint(t1[1][1])\n",
      "metadata": {
        "trusted": true
      },
      "execution_count": null,
      "outputs": []
    },
    {
      "cell_type": "code",
      "source": "t1= (50)\nprint(t1)\n",
      "metadata": {
        "trusted": true
      },
      "execution_count": null,
      "outputs": []
    },
    {
      "cell_type": "code",
      "source": "t1 = (10, 20, 30, 40)\na, b, c, d = t1\nprint(a)\nprint(b)\nprint(c)\nprint(d)\n",
      "metadata": {
        "trusted": true
      },
      "execution_count": null,
      "outputs": []
    },
    {
      "cell_type": "code",
      "source": "t1 = (18, 20)\nt2 = (4, 97)\nt1, t2 = t2, t1\nprint(t2)\nprint(t1)\n",
      "metadata": {
        "trusted": true
      },
      "execution_count": null,
      "outputs": []
    },
    {
      "cell_type": "code",
      "source": "t1 = (10, 20, 30, 40, 50, 60)\nt2 = t1[3:-1]\nprint(t2)\n",
      "metadata": {
        "trusted": true
      },
      "execution_count": null,
      "outputs": []
    },
    {
      "cell_type": "code",
      "source": "t1 = (11, [22, 33], 44, 55)\nt1[1][0] = 222\nprint(t1)\n",
      "metadata": {
        "trusted": true
      },
      "execution_count": null,
      "outputs": []
    },
    {
      "cell_type": "code",
      "source": "tuple1 = (('a', 11), ('b', 12), ('c', 13), ('d', 14))\ntuple1 = tuple(sorted(list(tuple1), key=lambda x: x[1]))\nprint(t1)",
      "metadata": {
        "trusted": true
      },
      "execution_count": null,
      "outputs": []
    },
    {
      "cell_type": "code",
      "source": "t1 = (50, 10, 60, 70, 50)\nprint(t1.count(50))\n",
      "metadata": {
        "trusted": true
      },
      "execution_count": null,
      "outputs": []
    },
    {
      "cell_type": "code",
      "source": "set = {\"Yellow\", \"Orange\", \"Black\"}\nlist = [\"Blue\", \"Green\", \"Red\"]\nset.update(list)\nprint(set)\n",
      "metadata": {
        "trusted": true
      },
      "execution_count": null,
      "outputs": []
    },
    {
      "cell_type": "code",
      "source": "def check(t):\n    return all(i == t[0] for i in t)\nt1 = (45, 45, 45, 45)\nprint(check(t1))\n",
      "metadata": {
        "trusted": true
      },
      "execution_count": null,
      "outputs": []
    },
    {
      "cell_type": "code",
      "source": "set1 = {10, 20, 30, 40, 50}\nset2 = {30, 40, 50, 60, 70}\nprint(set1.intersection(set2))\n",
      "metadata": {
        "trusted": true
      },
      "execution_count": null,
      "outputs": []
    },
    {
      "cell_type": "code",
      "source": "set1 = {10, 20, 30, 40, 50}\nset2 = {30, 40, 50, 60, 70}\nprint(set1.union(set2))\n",
      "metadata": {
        "trusted": true
      },
      "execution_count": null,
      "outputs": []
    },
    {
      "cell_type": "code",
      "source": "set1 = {10, 20, 30}\nset2 = {20, 40, 50}\nset1.difference_update(set2)\nprint(set1)\n",
      "metadata": {
        "trusted": true
      },
      "execution_count": null,
      "outputs": []
    },
    {
      "cell_type": "code",
      "source": "set1 = {10, 20, 30, 40, 50}\nset1.difference_update({10, 20, 30})\nprint(set1)\n",
      "metadata": {
        "trusted": true
      },
      "execution_count": null,
      "outputs": []
    },
    {
      "cell_type": "code",
      "source": "set1 = {10, 20, 30, 40, 50}\nset2 = {30, 40, 50, 60, 70}\nprint(set1.symmetric_difference(set2))\n",
      "metadata": {
        "trusted": true
      },
      "execution_count": null,
      "outputs": []
    },
    {
      "cell_type": "code",
      "source": "set1 = {10, 20, 30, 40, 50}\nset2 = {60, 70, 80, 90, 10}\nif set1.isdisjoint(set2):\n  print(\"Two sets have no items in common\")\nelse:\n  print(\"Two sets have items in common\")\n  print(set1.intersection(set2))\n",
      "metadata": {
        "trusted": true
      },
      "execution_count": null,
      "outputs": []
    },
    {
      "cell_type": "code",
      "source": "set1 = {10, 20, 30, 40, 50}\nset2 = {30, 40, 50, 60, 70}\nset1.intersection_update(set2)\nprint(set1)",
      "metadata": {
        "trusted": true
      },
      "execution_count": null,
      "outputs": []
    }
  ]
}